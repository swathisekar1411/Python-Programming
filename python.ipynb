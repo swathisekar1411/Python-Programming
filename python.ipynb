{
  "nbformat": 4,
  "nbformat_minor": 0,
  "metadata": {
    "colab": {
      "name": "python.ipynb",
      "provenance": []
    },
    "kernelspec": {
      "name": "python3",
      "display_name": "Python 3"
    },
    "language_info": {
      "name": "python"
    }
  },
  "cells": [
    {
      "cell_type": "markdown",
      "metadata": {
        "id": "vcCvLoGBha91"
      },
      "source": [
        "#**Arithmetic Operators**"
      ]
    },
    {
      "cell_type": "code",
      "metadata": {
        "colab": {
          "base_uri": "https://localhost:8080/"
        },
        "id": "2o03UkpohoZ5",
        "outputId": "146f77b2-d800-4916-efba-4784fdd2ab4a"
      },
      "source": [
        "#Addition\n",
        "\n",
        "3 + 5"
      ],
      "execution_count": null,
      "outputs": [
        {
          "output_type": "execute_result",
          "data": {
            "text/plain": [
              "8"
            ]
          },
          "metadata": {},
          "execution_count": 1
        }
      ]
    },
    {
      "cell_type": "code",
      "metadata": {
        "colab": {
          "base_uri": "https://localhost:8080/",
          "height": 35
        },
        "id": "eZ6W-lnoiGe2",
        "outputId": "e95f0b0f-93cc-4954-d4c3-5560e7e5c199"
      },
      "source": [
        "\"neeraj\"+\"20\""
      ],
      "execution_count": null,
      "outputs": [
        {
          "output_type": "execute_result",
          "data": {
            "application/vnd.google.colaboratory.intrinsic+json": {
              "type": "string"
            },
            "text/plain": [
              "'neeraj20'"
            ]
          },
          "metadata": {},
          "execution_count": 5
        }
      ]
    },
    {
      "cell_type": "code",
      "metadata": {
        "colab": {
          "base_uri": "https://localhost:8080/"
        },
        "id": "j9ZUH7c_hvIU",
        "outputId": "0614a406-e392-47c7-afbe-ab91c1dfdbf7"
      },
      "source": [
        "#Subtraction\n",
        "\n",
        "54 - 46"
      ],
      "execution_count": null,
      "outputs": [
        {
          "output_type": "execute_result",
          "data": {
            "text/plain": [
              "8"
            ]
          },
          "metadata": {},
          "execution_count": 2
        }
      ]
    },
    {
      "cell_type": "code",
      "metadata": {
        "colab": {
          "base_uri": "https://localhost:8080/"
        },
        "id": "kpBVf8sUhvMC",
        "outputId": "534ad2d7-327e-4f82-ca49-8a338e17f71e"
      },
      "source": [
        "#Multiplication\n",
        "\n",
        "5 * 6"
      ],
      "execution_count": null,
      "outputs": [
        {
          "output_type": "execute_result",
          "data": {
            "text/plain": [
              "30"
            ]
          },
          "metadata": {},
          "execution_count": 3
        }
      ]
    },
    {
      "cell_type": "code",
      "metadata": {
        "colab": {
          "base_uri": "https://localhost:8080/"
        },
        "id": "0QGFCJFzhvO9",
        "outputId": "1b5d9d16-418e-4525-e1b9-62f8a4b55708"
      },
      "source": [
        "#Division\n",
        "\n",
        "35 /7"
      ],
      "execution_count": null,
      "outputs": [
        {
          "output_type": "execute_result",
          "data": {
            "text/plain": [
              "5.0"
            ]
          },
          "metadata": {},
          "execution_count": 4
        }
      ]
    },
    {
      "cell_type": "markdown",
      "metadata": {
        "id": "x6tkZd2AhbBL"
      },
      "source": [
        "#**Comparison Operators**"
      ]
    },
    {
      "cell_type": "code",
      "metadata": {
        "colab": {
          "base_uri": "https://localhost:8080/"
        },
        "id": "ZhVAi31yiPXt",
        "outputId": "5e2be1b8-bc74-47b3-e03a-0f26771c8a2c"
      },
      "source": [
        "#greater than\n",
        "\n",
        "45 >34"
      ],
      "execution_count": null,
      "outputs": [
        {
          "output_type": "execute_result",
          "data": {
            "text/plain": [
              "True"
            ]
          },
          "metadata": {},
          "execution_count": 7
        }
      ]
    },
    {
      "cell_type": "code",
      "metadata": {
        "colab": {
          "base_uri": "https://localhost:8080/"
        },
        "id": "XAH_PhNoiPak",
        "outputId": "d20bf773-9db5-4c84-875e-0cde83a5620c"
      },
      "source": [
        "#less than\n",
        "\n",
        "45 <34"
      ],
      "execution_count": null,
      "outputs": [
        {
          "output_type": "execute_result",
          "data": {
            "text/plain": [
              "False"
            ]
          },
          "metadata": {},
          "execution_count": 6
        }
      ]
    },
    {
      "cell_type": "markdown",
      "metadata": {
        "id": "5F859TFshbLK"
      },
      "source": [
        "#**Logical Operators**"
      ]
    },
    {
      "cell_type": "code",
      "metadata": {
        "colab": {
          "base_uri": "https://localhost:8080/"
        },
        "id": "ZgBhMKh0imV9",
        "outputId": "676feca8-2c67-47e4-f757-87af6261163a"
      },
      "source": [
        "# and operator\n",
        "\n",
        "0 and 3"
      ],
      "execution_count": null,
      "outputs": [
        {
          "output_type": "execute_result",
          "data": {
            "text/plain": [
              "0"
            ]
          },
          "metadata": {},
          "execution_count": 8
        }
      ]
    },
    {
      "cell_type": "code",
      "metadata": {
        "colab": {
          "base_uri": "https://localhost:8080/"
        },
        "id": "bHjTrwE1imht",
        "outputId": "e809c5ff-552c-4be9-cf9d-989b2562e9bc"
      },
      "source": [
        "# or operator\n",
        "\n",
        "0 or 3"
      ],
      "execution_count": null,
      "outputs": [
        {
          "output_type": "execute_result",
          "data": {
            "text/plain": [
              "3"
            ]
          },
          "metadata": {},
          "execution_count": 9
        }
      ]
    },
    {
      "cell_type": "markdown",
      "metadata": {
        "id": "uAUiMG2ujodJ"
      },
      "source": [
        "#**Conditinal statements**"
      ]
    },
    {
      "cell_type": "markdown",
      "metadata": {
        "id": "dwXaK-zRiy6e"
      },
      "source": [
        "Problem 1 : Take a variable x and print \"Even\" if the number is divisible by 2, otherwise print \"Odd\"."
      ]
    },
    {
      "cell_type": "code",
      "metadata": {
        "colab": {
          "base_uri": "https://localhost:8080/"
        },
        "id": "EJYElOLAj8AJ",
        "outputId": "6c3a4841-8ad5-4a26-a94a-925ca3ca9c0a"
      },
      "source": [
        "x=8\n",
        "\n",
        "if(x%2==0):\n",
        "    print(\"Even\")\n",
        "else:\n",
        "    print(\"Odd\")"
      ],
      "execution_count": null,
      "outputs": [
        {
          "output_type": "stream",
          "name": "stdout",
          "text": [
            "Even\n"
          ]
        }
      ]
    },
    {
      "cell_type": "markdown",
      "metadata": {
        "id": "p9NT9jnikA5y"
      },
      "source": [
        "Take a variable y and print \"Grade A\" if y is greater than 90, \"Grade B\" if y is greater than 60 but less than or equal to 90 and \"Grade F\" Otherwise."
      ]
    },
    {
      "cell_type": "code",
      "metadata": {
        "colab": {
          "base_uri": "https://localhost:8080/"
        },
        "id": "4Wu87vaFkCUj",
        "outputId": "4e978c5e-d583-412c-d854-d559906694d4"
      },
      "source": [
        "y=95\n",
        "\n",
        "if(y>90):\n",
        "    print(\"Grade A\")\n",
        "elif(y>60):\n",
        "    print(\"Grade B\")\n",
        "else:\n",
        "    print(\"Grade F\")"
      ],
      "execution_count": null,
      "outputs": [
        {
          "output_type": "stream",
          "name": "stdout",
          "text": [
            "Grade A\n"
          ]
        }
      ]
    },
    {
      "cell_type": "markdown",
      "metadata": {
        "id": "YLQnQ0bNkQGy"
      },
      "source": [
        "#**Looping constructs**"
      ]
    },
    {
      "cell_type": "markdown",
      "metadata": {
        "id": "4eQUB7SwkdRq"
      },
      "source": [
        "Write a for loop to print all the odd numbers between 10 and 50."
      ]
    },
    {
      "cell_type": "code",
      "metadata": {
        "colab": {
          "base_uri": "https://localhost:8080/"
        },
        "id": "CjRfPDPwkZ60",
        "outputId": "670710de-b466-4b93-ee6e-0f4b3f3f83bf"
      },
      "source": [
        "for i in range(11,50,2):\n",
        "    print(i)"
      ],
      "execution_count": null,
      "outputs": [
        {
          "output_type": "stream",
          "name": "stdout",
          "text": [
            "11\n",
            "13\n",
            "15\n",
            "17\n",
            "19\n",
            "21\n",
            "23\n",
            "25\n",
            "27\n",
            "29\n",
            "31\n",
            "33\n",
            "35\n",
            "37\n",
            "39\n",
            "41\n",
            "43\n",
            "45\n",
            "47\n",
            "49\n"
          ]
        }
      ]
    },
    {
      "cell_type": "markdown",
      "metadata": {
        "id": "fjTGpjv_6Xri"
      },
      "source": [
        "#**Functions**"
      ]
    },
    {
      "cell_type": "markdown",
      "metadata": {
        "id": "q8M2Aai06fhQ"
      },
      "source": [
        "Create a function that takes two numbers as argument and returns the greater of the two."
      ]
    },
    {
      "cell_type": "code",
      "metadata": {
        "id": "pD8nn6Rf6etj"
      },
      "source": [
        "def compare(a,b):\n",
        "    if(a>b):\n",
        "        greater=a\n",
        "    else:\n",
        "        greater=b\n",
        "    \n",
        "    return greater\n",
        "    "
      ],
      "execution_count": 2,
      "outputs": []
    },
    {
      "cell_type": "code",
      "metadata": {
        "colab": {
          "base_uri": "https://localhost:8080/"
        },
        "id": "3HlvuusH80br",
        "outputId": "70f43fcd-1b7f-4c15-d396-6183cc21f595"
      },
      "source": [
        "compare(10,50)"
      ],
      "execution_count": 3,
      "outputs": [
        {
          "output_type": "execute_result",
          "data": {
            "text/plain": [
              "50"
            ]
          },
          "metadata": {},
          "execution_count": 3
        }
      ]
    },
    {
      "cell_type": "markdown",
      "metadata": {
        "id": "rov_JZdy9B0j"
      },
      "source": [
        "# **Dictionary**"
      ]
    },
    {
      "cell_type": "code",
      "metadata": {
        "id": "p3xUdbPO8-D1"
      },
      "source": [
        "#Creating a dictionary\n",
        "\n",
        "marks={'history':45,'Geography':54,'Hindi':56}"
      ],
      "execution_count": 4,
      "outputs": []
    },
    {
      "cell_type": "code",
      "metadata": {
        "colab": {
          "base_uri": "https://localhost:8080/"
        },
        "id": "8tIWNaex9I1Q",
        "outputId": "92e47e2a-29d2-4166-e521-e55b43bd6c70"
      },
      "source": [
        "marks"
      ],
      "execution_count": 5,
      "outputs": [
        {
          "output_type": "execute_result",
          "data": {
            "text/plain": [
              "{'Geography': 54, 'Hindi': 56, 'history': 45}"
            ]
          },
          "metadata": {},
          "execution_count": 5
        }
      ]
    },
    {
      "cell_type": "code",
      "metadata": {
        "colab": {
          "base_uri": "https://localhost:8080/"
        },
        "id": "ixQUFB7Q9I3x",
        "outputId": "feff936e-0c85-4ebf-8d23-cc95f6496eee"
      },
      "source": [
        "# access elements\n",
        "\n",
        "marks['Geography']"
      ],
      "execution_count": 6,
      "outputs": [
        {
          "output_type": "execute_result",
          "data": {
            "text/plain": [
              "54"
            ]
          },
          "metadata": {},
          "execution_count": 6
        }
      ]
    },
    {
      "cell_type": "code",
      "metadata": {
        "id": "pdwq2Tkr9I66"
      },
      "source": [
        "#adding elements\n",
        "\n",
        "marks['english']=47"
      ],
      "execution_count": 7,
      "outputs": []
    },
    {
      "cell_type": "code",
      "metadata": {
        "id": "6zRE8TSz9JXB"
      },
      "source": [
        "marks.update({'Chemistry':89,'Physics':98})"
      ],
      "execution_count": 8,
      "outputs": []
    },
    {
      "cell_type": "code",
      "metadata": {
        "id": "j_ZwEcm89Ja7"
      },
      "source": [
        "del marks['Hindi']"
      ],
      "execution_count": 9,
      "outputs": []
    },
    {
      "cell_type": "code",
      "metadata": {
        "colab": {
          "base_uri": "https://localhost:8080/"
        },
        "id": "pVu7EHXY9kRg",
        "outputId": "4edbca1d-e173-4f64-8825-3713f4212dc8"
      },
      "source": [
        "marks"
      ],
      "execution_count": 10,
      "outputs": [
        {
          "output_type": "execute_result",
          "data": {
            "text/plain": [
              "{'Chemistry': 89, 'Geography': 54, 'Physics': 98, 'english': 47, 'history': 45}"
            ]
          },
          "metadata": {},
          "execution_count": 10
        }
      ]
    },
    {
      "cell_type": "markdown",
      "metadata": {
        "id": "m12_QXyl9rO9"
      },
      "source": [
        "#**Reading csv and excel file**"
      ]
    },
    {
      "cell_type": "code",
      "metadata": {
        "id": "y_W4P7rT97VA"
      },
      "source": [
        "# importing pandas library\n",
        "\n",
        "import pandas as pd"
      ],
      "execution_count": 11,
      "outputs": []
    },
    {
      "cell_type": "code",
      "metadata": {
        "id": "Z4fES5kg-BG1"
      },
      "source": [
        "# Reading the csv file\n",
        "\n",
        "df = pd.read_csv(\"data.csv\")"
      ],
      "execution_count": null,
      "outputs": []
    },
    {
      "cell_type": "code",
      "metadata": {
        "id": "lMKaQDdK-BJw"
      },
      "source": [
        "# Reading excel file\n",
        "\n",
        "df1 = pd.read_excel(\"data.xlsx\")"
      ],
      "execution_count": null,
      "outputs": []
    },
    {
      "cell_type": "markdown",
      "metadata": {
        "id": "mlEOOOWB-R9e"
      },
      "source": [
        "#**Data frames**"
      ]
    },
    {
      "cell_type": "code",
      "metadata": {
        "id": "8ImdVTlF-RT1"
      },
      "source": [
        "# Seeing the dimensions of the df dataframe\n",
        "\n",
        "df.shape"
      ],
      "execution_count": null,
      "outputs": []
    },
    {
      "cell_type": "code",
      "metadata": {
        "id": "68ROwvq_9kWW"
      },
      "source": [
        "# top 5 rows\n",
        "\n",
        "df.head()"
      ],
      "execution_count": null,
      "outputs": []
    },
    {
      "cell_type": "code",
      "metadata": {
        "id": "efE_bt23-lxY"
      },
      "source": [
        "# bottom 5 rows\n",
        "\n",
        "df.tail()"
      ],
      "execution_count": null,
      "outputs": []
    },
    {
      "cell_type": "code",
      "metadata": {
        "id": "NgyZtuFj-s9d"
      },
      "source": [
        "# Seeing the names of the columns in the dataframe\n",
        "\n",
        "df.columns"
      ],
      "execution_count": null,
      "outputs": []
    },
    {
      "cell_type": "code",
      "metadata": {
        "id": "624G0qRw-tA-"
      },
      "source": [
        "# Selecting a single column\n",
        "\n",
        "df['Bare_Nuclei']"
      ],
      "execution_count": null,
      "outputs": []
    },
    {
      "cell_type": "code",
      "metadata": {
        "id": "Xlr9ZcY1-wxC"
      },
      "source": [
        "# selecting multiple columns using names\n",
        "\n",
        "df[['Bare_Nuclei', 'Cancer_Type']]"
      ],
      "execution_count": null,
      "outputs": []
    },
    {
      "cell_type": "markdown",
      "metadata": {
        "id": "NzPnKfUv_BBs"
      },
      "source": [
        "**indexing**"
      ]
    },
    {
      "cell_type": "code",
      "metadata": {
        "id": "JZ7KuG2n_BTO"
      },
      "source": [
        "# selecting rows by their positions\n",
        "\n",
        "df.iloc[:5]"
      ],
      "execution_count": null,
      "outputs": []
    },
    {
      "cell_type": "code",
      "metadata": {
        "id": "ij8voEw-_Be6"
      },
      "source": [
        "# selecting columns by their positions\n",
        "\n",
        "df.iloc[:,:2]"
      ],
      "execution_count": null,
      "outputs": []
    },
    {
      "cell_type": "code",
      "metadata": {
        "id": "Du_mfDFK-l0d"
      },
      "source": [
        ""
      ],
      "execution_count": null,
      "outputs": []
    }
  ]
}